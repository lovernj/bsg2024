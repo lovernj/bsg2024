{
 "cells": [
  {
   "cell_type": "code",
   "execution_count": null,
   "metadata": {},
   "outputs": [],
   "source": [
    "from bsg2 import *"
   ]
  },
  {
   "cell_type": "code",
   "execution_count": null,
   "metadata": {},
   "outputs": [],
   "source": [
    "login = ('username','password')\n",
    "driver = sel_context.setup(login)\n"
   ]
  },
  {
   "cell_type": "code",
   "execution_count": null,
   "metadata": {
    "metadata": {}
   },
   "outputs": [],
   "source": [
    "env = bsg.environment(driver)\n",
    "bsg_actual.instantiate_environment(env)\n"
   ]
  },
  {
   "cell_type": "code",
   "execution_count": null,
   "metadata": {
    "metadata": {}
   },
   "outputs": [],
   "source": [
    "env.invalidate_page()\n",
    "                                 #models    rr        s/q\n",
    "algs.optimize_production(env,'NA','500',(4.6,4.8),(7.5,7.6))\n",
    "algs.optimize_production(env,'AP','500',(4.6,4.8),(7.5,7.6))\n",
    "algs.optimize_production(env,'LA','500',(4.6,4.8),(7.5,7.6))"
   ]
  },
  {
   "cell_type": "code",
   "execution_count": null,
   "metadata": {
    "metadata": {}
   },
   "outputs": [],
   "source": [
    "env.invalidate_page()\n",
    "algs.optimize_shipping(env,['AP','LA','NA','EA'])"
   ]
  },
  {
   "cell_type": "code",
   "execution_count": null,
   "metadata": {},
   "outputs": [],
   "source": [
    "#Private label optimizer\n",
    "env.invalidate_page()\n",
    "algs.optimize_PL(env,'NA',('4.0','4.1'))\n"
   ]
  }
 ],
 "metadata": {
  "kernelspec": {
   "display_name": "Python 3",
   "language": "python",
   "name": "python3"
  },
  "language_info": {
   "codemirror_mode": {
    "name": "ipython",
    "version": 3
   },
   "file_extension": ".py",
   "mimetype": "text/x-python",
   "name": "python",
   "nbconvert_exporter": "python",
   "pygments_lexer": "ipython3",
   "version": "3.11.1"
  }
 },
 "nbformat": 4,
 "nbformat_minor": 2
}
